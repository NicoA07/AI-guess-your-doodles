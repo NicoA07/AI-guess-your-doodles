{
 "cells": [
  {
   "cell_type": "markdown",
   "metadata": {},
   "source": [
    "**Required Libraries**\n",
    "___"
   ]
  },
  {
   "cell_type": "code",
   "execution_count": 7,
   "metadata": {},
   "outputs": [],
   "source": [
    "import os\n",
    "import glob\n",
    "import numpy as np\n",
    "from tensorflow import keras \n",
    "from keras.layers import Dense,Flatten, Conv2D\n",
    "from keras.layers import MaxPooling2D, Dropout\n",
    "import tensorflow as tf\n",
    "import tensorflowjs as tfjs\n",
    "from shutil import copyfile\n",
    "from tensorflow.keras import layers\n",
    "\n",
    "\n",
    "\n",
    "import matplotlib.pyplot as plt\n",
    "from random import randint"
   ]
  },
  {
   "cell_type": "markdown",
   "metadata": {},
   "source": [
    "**Pre-Processing the Dataset**\n",
    "____\n",
    "<!-- > Here we ....\n",
    "\n",
    "<img src=\"https://www.python.org/static/community_logos/python-logo-master-v3-TM.png\" title=\"Python Logo\"/>\n",
    "\n",
    "[Wikipedia Link](https://en.wikipedia.org \"Wikipedia\")\n",
    "<br>\n",
    "<span style=\"color:White\">Text</span> -->"
   ]
  },
  {
   "cell_type": "code",
   "execution_count": 8,
   "metadata": {},
   "outputs": [
    {
     "name": "stdout",
     "output_type": "stream",
     "text": [
      "Dataset List :  ['Trained Dataset\\\\angel.npy', 'Trained Dataset\\\\ant.npy', 'Trained Dataset\\\\apple.npy', 'Trained Dataset\\\\axe.npy', 'Trained Dataset\\\\backpack.npy', 'Trained Dataset\\\\banana.npy', 'Trained Dataset\\\\bandage.npy', 'Trained Dataset\\\\baseball_bat.npy', 'Trained Dataset\\\\basketball.npy', 'Trained Dataset\\\\bathtub.npy', 'Trained Dataset\\\\bear.npy', 'Trained Dataset\\\\beard.npy', 'Trained Dataset\\\\bee.npy', 'Trained Dataset\\\\bicycle.npy', 'Trained Dataset\\\\binoculars.npy', 'Trained Dataset\\\\bird.npy', 'Trained Dataset\\\\birthday_cake.npy', 'Trained Dataset\\\\book.npy', 'Trained Dataset\\\\boomerang.npy', 'Trained Dataset\\\\bowtie.npy', 'Trained Dataset\\\\bracelet.npy', 'Trained Dataset\\\\brain.npy', 'Trained Dataset\\\\bread.npy', 'Trained Dataset\\\\bridge.npy', 'Trained Dataset\\\\broccoli.npy', 'Trained Dataset\\\\broom.npy', 'Trained Dataset\\\\bucket.npy', 'Trained Dataset\\\\bus.npy', 'Trained Dataset\\\\bush.npy', 'Trained Dataset\\\\butterfly.npy', 'Trained Dataset\\\\cactus.npy', 'Trained Dataset\\\\calendar.npy', 'Trained Dataset\\\\camera.npy', 'Trained Dataset\\\\campfire.npy', 'Trained Dataset\\\\candle.npy', 'Trained Dataset\\\\car.npy', 'Trained Dataset\\\\carrot.npy', 'Trained Dataset\\\\cat.npy', 'Trained Dataset\\\\cell_phone.npy', 'Trained Dataset\\\\chair.npy', 'Trained Dataset\\\\circle.npy', 'Trained Dataset\\\\coffee_cup.npy', 'Trained Dataset\\\\diamond.npy', 'Trained Dataset\\\\dog.npy', 'Trained Dataset\\\\donut.npy', 'Trained Dataset\\\\door.npy', 'Trained Dataset\\\\duck.npy', 'Trained Dataset\\\\dumbbell.npy', 'Trained Dataset\\\\ear.npy', 'Trained Dataset\\\\elephant.npy', 'Trained Dataset\\\\envelope.npy', 'Trained Dataset\\\\eyeglasses.npy', 'Trained Dataset\\\\fish.npy', 'Trained Dataset\\\\flower.npy', 'Trained Dataset\\\\fork.npy', 'Trained Dataset\\\\grapes.npy', 'Trained Dataset\\\\guitar.npy', 'Trained Dataset\\\\hammer.npy', 'Trained Dataset\\\\hot_air_balloon.npy', 'Trained Dataset\\\\house.npy', 'Trained Dataset\\\\ice_cream.npy', 'Trained Dataset\\\\key.npy', 'Trained Dataset\\\\knife.npy', 'Trained Dataset\\\\ladder.npy', 'Trained Dataset\\\\lantern.npy', 'Trained Dataset\\\\laptop.npy', 'Trained Dataset\\\\light_bulb.npy', 'Trained Dataset\\\\moon.npy', 'Trained Dataset\\\\mug.npy', 'Trained Dataset\\\\octagon.npy', 'Trained Dataset\\\\panda.npy', 'Trained Dataset\\\\pear.npy', 'Trained Dataset\\\\peas.npy', 'Trained Dataset\\\\pencil.npy', 'Trained Dataset\\\\pig.npy', 'Trained Dataset\\\\pineapple.npy', 'Trained Dataset\\\\pizza.npy', 'Trained Dataset\\\\rainbow.npy', 'Trained Dataset\\\\sailboat.npy', 'Trained Dataset\\\\scissors.npy', 'Trained Dataset\\\\sea_turtle.npy', 'Trained Dataset\\\\shoe.npy', 'Trained Dataset\\\\smiley_face.npy', 'Trained Dataset\\\\snail.npy', 'Trained Dataset\\\\snowman.npy', 'Trained Dataset\\\\sock.npy', 'Trained Dataset\\\\spider.npy', 'Trained Dataset\\\\spoon.npy', 'Trained Dataset\\\\square.npy', 'Trained Dataset\\\\star.npy', 'Trained Dataset\\\\stethoscope.npy', 'Trained Dataset\\\\strawberry.npy', 'Trained Dataset\\\\sun.npy', 'Trained Dataset\\\\sword.npy', 'Trained Dataset\\\\tiger.npy', 'Trained Dataset\\\\tree.npy', 'Trained Dataset\\\\triangle.npy', 'Trained Dataset\\\\washing_machine.npy', 'Trained Dataset\\\\watermelon.npy', 'Trained Dataset\\\\windmill.npy']\n",
      "Number of Categories :  100\n",
      "valid samples 50000\n"
     ]
    }
   ],
   "source": [
    "def load_dataset(directory):\n",
    "    # Variables\n",
    "    sample_size_per_category = 5000\n",
    "    x = np.empty([0, 784])\n",
    "    y = np.empty([0])\n",
    "    mylist = []\n",
    "    \n",
    "    # Load all .npy files into our dataset\n",
    "    dataset = glob.glob(os.path.join(directory, '*.npy'))\n",
    "    print(\"Dataset List : \", dataset)\n",
    "\n",
    "    # Load each file in the dataset\n",
    "    for idx, file in enumerate(dataset):\n",
    "        data = np.load(file)\n",
    "        data = data[0: sample_size_per_category, :]\n",
    "        labels = np.full(data.shape[0], idx)\n",
    "\n",
    "        x = np.concatenate((x, data), axis=0)\n",
    "        y = np.append(y, labels)\n",
    "\n",
    "        categories_list, ext = os.path.splitext(os.path.basename(file))\n",
    "        mylist.append(categories_list)\n",
    "    \n",
    "    return x, y, mylist \n",
    "\n",
    "# Randomize the data\n",
    "def random_data(datax, datay):\n",
    "    permutation = np.random.permutation(datay.shape[0])\n",
    "    x = datax[permutation, :]\n",
    "    y = datay[permutation]\n",
    "    return x, y\n",
    "    \n",
    "    \n",
    "#Seperate dataset to training data and testing data\n",
    "def train_test_split(datax, datay, ratio = 0.1):\n",
    "    validations_samples  = int(datax.shape[0] / 100 * (ratio * 100))\n",
    "    print(\"valid samples\", validations_samples)\n",
    "    x_test  = datax[0:validations_samples, :]\n",
    "    y_test  = datay[0:validations_samples]\n",
    "    x_train = datax[validations_samples:datax.shape[0], :]\n",
    "    y_train = datay[validations_samples:datay.shape[0]]\n",
    "\n",
    "\n",
    "    return x_train, y_train, x_test, y_test\n",
    "\n",
    "def data_preprocessing(datax_train, datax_test):\n",
    "    x_train = datax_train.reshape(datax_train.shape[0], 28, 28, 1).astype('float32')\n",
    "    x_test  =  datax_test.reshape(datax_test.shape[0], 28, 28, 1).astype('float32')\n",
    "\n",
    "\n",
    "    x_train /= 255.0\n",
    "    x_test /= 255.0\n",
    "\n",
    "    return x_train, x_test\n",
    "\n",
    "def data_encoding(datay_train, datay_test, data_category):\n",
    "    y_train = keras.utils.to_categorical(datay_train, len(data_category))\n",
    "    y_test  = keras.utils.to_categorical(datay_test, len(data_category))\n",
    "\n",
    "    return y_train, y_test\n",
    "    \n",
    "yourdirectory = 'Trained Dataset'\n",
    "x, y, categories_list = load_dataset(yourdirectory)\n",
    "print(\"Number of Categories : \" ,len(categories_list))\n",
    "x, y = random_data(x, y)\n",
    "x_train, y_train, x_test, y_test = train_test_split(x, y)\n"
   ]
  },
  {
   "cell_type": "markdown",
   "metadata": {},
   "source": [
    "**Random Test**\n",
    "____"
   ]
  },
  {
   "cell_type": "code",
   "execution_count": 9,
   "metadata": {},
   "outputs": [
    {
     "name": "stdout",
     "output_type": "stream",
     "text": [
      "[[  0.   0.   0.   0.   0.   0.   0.   0.   0.   0.   0.   0.   0.   0.\n",
      "    0.   0.   0.   0.   0.   0.   0.   0.   0.   0.   0.   0.   0.   0.]\n",
      " [  0.   0.   0.   0.   0.   0.   0.   0.   0.   0.   0.   0.   0.   0.\n",
      "    0.   0.   0.   0.   0.   0.   0.   0.   0.   0.   0.   0.   0.   0.]\n",
      " [  0.   0.   0.   0.   0.   0.   0.   0.   0.   0.   0.   0.   0.   0.\n",
      "    0.   0.   0.   0.   0.   0.   0.   0.   0.   0.   0.   0.   0.   0.]\n",
      " [  0.   0.   0.   0.   0.   0.   0.   0.   0.   0.   0.   0.   0.   0.\n",
      "    0.   0.   0.   0.   0.   0.   0.   0.   0.   0.   0.   0.   0.   0.]\n",
      " [  0.   0.   0.   0.   0.   0.   0.   0.   0.   0.   0.   0.   0.   0.\n",
      "    0.   0.   0.   0.   0.   0.   0.   0.   0.   0.   0.   0.   0.   0.]\n",
      " [  0.   0.   0.   0.   0.   0.   0.   0.   0.   0.   0.   0.   0.   0.\n",
      "    0.   0.   0.   0.   0.   0.   0.   0.   0.   0.   0.   0.   0.   0.]\n",
      " [  0.   0.   0.   0.   0.   0.   0.   0.   0.   0.   0.   0.   0.   0.\n",
      "    0.   0.   0.   0.   0.   0.   0.   0.   0.   0.   0.   0.   0.   0.]\n",
      " [  0.   0.   0.   0.   0.   0.   0.   0.   0.   0.   0.   0.   0.   0.\n",
      "    0.   0.   0.   0.   0.   0.   0.   0.   0.   0.   0.   0.   0.   0.]\n",
      " [  0.   0.   0.   0.   0.   0.   0.   0.   2.  78. 115. 136.  98.   2.\n",
      "   19.  85. 153. 157.  18.   0.   0.   0.   0.   0.   0.   0.   0.   0.]\n",
      " [  0.   0.   0.   0.   0.   9.  66.  82. 203. 255. 255. 245. 255. 241.\n",
      "  253. 255. 234. 245. 184.   0.   0.   0.   0.   0.   0.   0.   0.   0.]\n",
      " [  0.   0.   0.   0.  16. 237. 255. 255. 239. 174.  65. 208. 245. 205.\n",
      "  117.  81.  64. 102. 255.  88.   0.   0.   0.   0.   0.   0.   0.   0.]\n",
      " [  0.   0.   0.   0. 132. 255. 138. 116. 236. 245. 240. 236. 170.  10.\n",
      "    0. 169. 255. 244. 235. 236. 170. 178. 141.  21.   0.   0.   0.   0.]\n",
      " [  0.   0.   0.   0. 181. 254.  45.  60.   0. 111. 255. 226. 255. 225.\n",
      "   48.   7.  71. 139. 243. 248. 209. 203. 248. 206.   0.   0.   0.   0.]\n",
      " [  0.   0.   5.  89. 184. 247. 255. 244.   4.  73. 255.  80.  68. 250.\n",
      "  140.   0.   0.   0.  50. 248. 126.   0. 102. 255.  41.   0.   0.   0.]\n",
      " [  0.  20. 197. 255. 230. 164.  97.  26.  13. 156. 255.  88. 145. 255.\n",
      "   89.   0.   0.   0.   0. 103.  56.   0.  20. 251. 231. 105.   0.   0.]\n",
      " [  0. 108. 255. 151.  66.  79. 164.  82. 100. 249. 128.   2. 211. 255.\n",
      "  245.  97.   0.   0.   0.   0.   0.   0.   0.  89. 184. 255.  84.   0.]\n",
      " [  0.  44. 218. 255. 255. 255. 243. 109.   2.  19.   0.   0.   3. 101.\n",
      "  244. 187.  26.   0.   0.   0.   0.   0.   0.   3.  64. 255. 122.   0.]\n",
      " [  0.   0.   6.  64. 187. 236.  34.   0.   0.   9. 176.  83.   9. 249.\n",
      "  252. 255. 255. 224. 204. 203. 187. 187. 203. 238. 255. 230.  47.   0.]\n",
      " [  0.   0.   0.   0. 165. 241. 187. 187. 198. 247. 255. 249. 251. 255.\n",
      "  255. 204. 105. 159. 170. 179. 187. 187. 173. 146.  76.  10.   0.   0.]\n",
      " [  0.   0.   0.   0.  33. 180. 187. 187. 183. 133.  74. 173. 220. 211.\n",
      "  118.  17.   0.   0.   0.   0.   0.   0.   0.   0.   0.   0.   0.   0.]\n",
      " [  0.   0.   0.   0.   0.   0.   0.   0.   0.   0.   0.   0.   0.   0.\n",
      "    0.   0.   0.   0.   0.   0.   0.   0.   0.   0.   0.   0.   0.   0.]\n",
      " [  0.   0.   0.   0.   0.   0.   0.   0.   0.   0.   0.   0.   0.   0.\n",
      "    0.   0.   0.   0.   0.   0.   0.   0.   0.   0.   0.   0.   0.   0.]\n",
      " [  0.   0.   0.   0.   0.   0.   0.   0.   0.   0.   0.   0.   0.   0.\n",
      "    0.   0.   0.   0.   0.   0.   0.   0.   0.   0.   0.   0.   0.   0.]\n",
      " [  0.   0.   0.   0.   0.   0.   0.   0.   0.   0.   0.   0.   0.   0.\n",
      "    0.   0.   0.   0.   0.   0.   0.   0.   0.   0.   0.   0.   0.   0.]\n",
      " [  0.   0.   0.   0.   0.   0.   0.   0.   0.   0.   0.   0.   0.   0.\n",
      "    0.   0.   0.   0.   0.   0.   0.   0.   0.   0.   0.   0.   0.   0.]\n",
      " [  0.   0.   0.   0.   0.   0.   0.   0.   0.   0.   0.   0.   0.   0.\n",
      "    0.   0.   0.   0.   0.   0.   0.   0.   0.   0.   0.   0.   0.   0.]\n",
      " [  0.   0.   0.   0.   0.   0.   0.   0.   0.   0.   0.   0.   0.   0.\n",
      "    0.   0.   0.   0.   0.   0.   0.   0.   0.   0.   0.   0.   0.   0.]\n",
      " [  0.   0.   0.   0.   0.   0.   0.   0.   0.   0.   0.   0.   0.   0.\n",
      "    0.   0.   0.   0.   0.   0.   0.   0.   0.   0.   0.   0.   0.   0.]]\n",
      "category:  brain\n"
     ]
    },
    {
     "data": {
      "image/png": "[encoded data removed]",
      "text/plain": [
       "<Figure size 432x288 with 1 Axes>"
      ]
     },
     "metadata": {
      "needs_background": "light"
     },
     "output_type": "display_data"
    }
   ],
   "source": [
    "idx = randint(0, len(x_train))\n",
    "print(x_train[idx].reshape(28,28))\n",
    "plt.imshow(x_train[idx].reshape(28,28)) \n",
    "print(\"category: \", categories_list[int(y_train[idx].item())])"
   ]
  },
  {
   "cell_type": "markdown",
   "metadata": {},
   "source": [
    "**Final Preprocessing**\n",
    "___"
   ]
  },
  {
   "cell_type": "code",
   "execution_count": 10,
   "metadata": {},
   "outputs": [],
   "source": [
    "x_train, x_test = data_preprocessing(x_train, x_test)\n",
    "y_train, y_test = data_encoding(y_train, y_test, categories_list)"
   ]
  },
  {
   "cell_type": "markdown",
   "metadata": {},
   "source": [
    "**CNN MODEL**\n",
    "___"
   ]
  },
  {
   "cell_type": "code",
   "execution_count": 11,
   "metadata": {},
   "outputs": [
    {
     "name": "stdout",
     "output_type": "stream",
     "text": [
      "Model: \"sequential_1\"\n",
      "_________________________________________________________________\n",
      " Layer (type)                Output Shape              Param #   \n",
      "=================================================================\n",
      " conv2d_6 (Conv2D)           (None, 28, 28, 16)        160       \n",
      "                                                                 \n",
      " conv2d_7 (Conv2D)           (None, 28, 28, 16)        2320      \n",
      "                                                                 \n",
      " max_pooling2d_3 (MaxPooling  (None, 14, 14, 16)       0         \n",
      " 2D)                                                             \n",
      "                                                                 \n",
      " conv2d_8 (Conv2D)           (None, 14, 14, 32)        4640      \n",
      "                                                                 \n",
      " conv2d_9 (Conv2D)           (None, 14, 14, 32)        9248      \n",
      "                                                                 \n",
      " max_pooling2d_4 (MaxPooling  (None, 7, 7, 32)         0         \n",
      " 2D)                                                             \n",
      "                                                                 \n",
      " conv2d_10 (Conv2D)          (None, 7, 7, 64)          18496     \n",
      "                                                                 \n",
      " conv2d_11 (Conv2D)          (None, 7, 7, 64)          36928     \n",
      "                                                                 \n",
      " max_pooling2d_5 (MaxPooling  (None, 3, 3, 64)         0         \n",
      " 2D)                                                             \n",
      "                                                                 \n",
      " dropout_1 (Dropout)         (None, 3, 3, 64)          0         \n",
      "                                                                 \n",
      " flatten_1 (Flatten)         (None, 576)               0         \n",
      "                                                                 \n",
      " dense_2 (Dense)             (None, 512)               295424    \n",
      "                                                                 \n",
      " dense_3 (Dense)             (None, 100)               51300     \n",
      "                                                                 \n",
      "=================================================================\n",
      "Total params: 418,516\n",
      "Trainable params: 418,516\n",
      "Non-trainable params: 0\n",
      "_________________________________________________________________\n",
      "None\n"
     ]
    }
   ],
   "source": [
    "# Our CNN Model\n",
    "# Number of Categories in our Dataset\n",
    "Num_of_Category = 100\n",
    "\n",
    "model = keras.Sequential()\n",
    "model.add(Conv2D(16, (3, 3),padding='same',input_shape=x_train.shape[1:], activation='relu'))\n",
    "model.add(Conv2D(16, (3, 3),padding='same',input_shape=x_train.shape[1:], activation='relu'))\n",
    "model.add(MaxPooling2D(pool_size=(2, 2)))\n",
    "\n",
    "\n",
    "model.add(Conv2D(32, (3, 3), padding='same', activation= 'relu'))\n",
    "model.add(Conv2D(32, (3, 3), padding='same', activation= 'relu'))\n",
    "model.add(MaxPooling2D(pool_size=(2, 2)))\n",
    "\n",
    "model.add(Conv2D(64, (3, 3), padding='same', activation= 'relu'))\n",
    "model.add(Conv2D(64, (3, 3), padding='same', activation= 'relu'))\n",
    "model.add(MaxPooling2D(pool_size =(2,2)))\n",
    "\n",
    "model.add(Dropout(0.1))\n",
    "model.add(Flatten())\n",
    "model.add(Dense(512, activation='tanh'))\n",
    "model.add(Dense(Num_of_Category, activation='softmax')) ### NUMBER OF Category\n",
    "\n",
    "# Compiling model\n",
    "adam = tf.optimizers.Adam()\n",
    "model.compile(loss='categorical_crossentropy', optimizer=adam, metrics=['top_k_categorical_accuracy'])\n",
    "print(model.summary())"
   ]
  },
  {
   "cell_type": "markdown",
   "metadata": {},
   "source": [
    "**CNN Model Training**\n",
    "____"
   ]
  },
  {
   "cell_type": "code",
   "execution_count": 12,
   "metadata": {},
   "outputs": [
    {
     "name": "stdout",
     "output_type": "stream",
     "text": [
      "Epoch 1/50\n",
      "1583/1583 - 213s - loss: 1.5083 - top_k_categorical_accuracy: 0.8434 - val_loss: 1.0356 - val_top_k_categorical_accuracy: 0.9129 - 213s/epoch - 134ms/step\n",
      "Epoch 2/50\n",
      "1583/1583 - 215s - loss: 0.9503 - top_k_categorical_accuracy: 0.9226 - val_loss: 0.9043 - val_top_k_categorical_accuracy: 0.9262 - 215s/epoch - 136ms/step\n",
      "Epoch 3/50\n",
      "1583/1583 - 217s - loss: 0.8268 - top_k_categorical_accuracy: 0.9354 - val_loss: 0.8510 - val_top_k_categorical_accuracy: 0.9321 - 217s/epoch - 137ms/step\n",
      "Epoch 4/50\n",
      "1583/1583 - 217s - loss: 0.7539 - top_k_categorical_accuracy: 0.9424 - val_loss: 0.7754 - val_top_k_categorical_accuracy: 0.9401 - 217s/epoch - 137ms/step\n",
      "Epoch 5/50\n",
      "1583/1583 - 217s - loss: 0.7067 - top_k_categorical_accuracy: 0.9471 - val_loss: 0.7750 - val_top_k_categorical_accuracy: 0.9388 - 217s/epoch - 137ms/step\n",
      "Epoch 6/50\n",
      "1583/1583 - 222s - loss: 0.6669 - top_k_categorical_accuracy: 0.9507 - val_loss: 0.7523 - val_top_k_categorical_accuracy: 0.9417 - 222s/epoch - 140ms/step\n",
      "Epoch 7/50\n",
      "1583/1583 - 221s - loss: 0.6374 - top_k_categorical_accuracy: 0.9538 - val_loss: 0.7543 - val_top_k_categorical_accuracy: 0.9408 - 221s/epoch - 140ms/step\n",
      "Epoch 8/50\n",
      "1583/1583 - 221s - loss: 0.6095 - top_k_categorical_accuracy: 0.9564 - val_loss: 0.7374 - val_top_k_categorical_accuracy: 0.9425 - 221s/epoch - 140ms/step\n",
      "Epoch 9/50\n",
      "1583/1583 - 220s - loss: 0.5899 - top_k_categorical_accuracy: 0.9582 - val_loss: 0.7360 - val_top_k_categorical_accuracy: 0.9431 - 220s/epoch - 139ms/step\n",
      "Epoch 10/50\n",
      "1583/1583 - 221s - loss: 0.5685 - top_k_categorical_accuracy: 0.9607 - val_loss: 0.7335 - val_top_k_categorical_accuracy: 0.9434 - 221s/epoch - 139ms/step\n",
      "Epoch 11/50\n",
      "1583/1583 - 222s - loss: 0.5523 - top_k_categorical_accuracy: 0.9621 - val_loss: 0.7502 - val_top_k_categorical_accuracy: 0.9404 - 222s/epoch - 141ms/step\n",
      "Epoch 12/50\n",
      "1583/1583 - 220s - loss: 0.5380 - top_k_categorical_accuracy: 0.9634 - val_loss: 0.7674 - val_top_k_categorical_accuracy: 0.9398 - 220s/epoch - 139ms/step\n",
      "Epoch 13/50\n",
      "1583/1583 - 221s - loss: 0.5224 - top_k_categorical_accuracy: 0.9651 - val_loss: 0.7499 - val_top_k_categorical_accuracy: 0.9416 - 221s/epoch - 139ms/step\n",
      "Epoch 14/50\n",
      "1583/1583 - 221s - loss: 0.5108 - top_k_categorical_accuracy: 0.9663 - val_loss: 0.7801 - val_top_k_categorical_accuracy: 0.9393 - 221s/epoch - 140ms/step\n",
      "Epoch 15/50\n",
      "1583/1583 - 222s - loss: 0.4980 - top_k_categorical_accuracy: 0.9674 - val_loss: 0.7420 - val_top_k_categorical_accuracy: 0.9433 - 222s/epoch - 140ms/step\n",
      "Epoch 16/50\n",
      "1583/1583 - 221s - loss: 0.4858 - top_k_categorical_accuracy: 0.9689 - val_loss: 0.7686 - val_top_k_categorical_accuracy: 0.9415 - 221s/epoch - 140ms/step\n",
      "Epoch 17/50\n",
      "1583/1583 - 222s - loss: 0.4758 - top_k_categorical_accuracy: 0.9698 - val_loss: 0.7714 - val_top_k_categorical_accuracy: 0.9424 - 222s/epoch - 140ms/step\n",
      "Epoch 18/50\n",
      "1583/1583 - 222s - loss: 0.4656 - top_k_categorical_accuracy: 0.9711 - val_loss: 0.7909 - val_top_k_categorical_accuracy: 0.9410 - 222s/epoch - 140ms/step\n",
      "Epoch 19/50\n",
      "1583/1583 - 223s - loss: 0.4592 - top_k_categorical_accuracy: 0.9716 - val_loss: 0.7714 - val_top_k_categorical_accuracy: 0.9415 - 223s/epoch - 141ms/step\n",
      "Epoch 20/50\n",
      "1583/1583 - 222s - loss: 0.4489 - top_k_categorical_accuracy: 0.9726 - val_loss: 0.7869 - val_top_k_categorical_accuracy: 0.9418 - 222s/epoch - 140ms/step\n",
      "Epoch 21/50\n",
      "1583/1583 - 223s - loss: 0.4421 - top_k_categorical_accuracy: 0.9732 - val_loss: 0.8048 - val_top_k_categorical_accuracy: 0.9394 - 223s/epoch - 141ms/step\n",
      "Epoch 22/50\n",
      "1583/1583 - 217s - loss: 0.4372 - top_k_categorical_accuracy: 0.9742 - val_loss: 0.7932 - val_top_k_categorical_accuracy: 0.9398 - 217s/epoch - 137ms/step\n",
      "Epoch 23/50\n",
      "1583/1583 - 214s - loss: 0.4261 - top_k_categorical_accuracy: 0.9751 - val_loss: 0.7969 - val_top_k_categorical_accuracy: 0.9402 - 214s/epoch - 135ms/step\n",
      "Epoch 24/50\n",
      "1583/1583 - 214s - loss: 0.4237 - top_k_categorical_accuracy: 0.9752 - val_loss: 0.8113 - val_top_k_categorical_accuracy: 0.9398 - 214s/epoch - 135ms/step\n",
      "Epoch 25/50\n",
      "1583/1583 - 213s - loss: 0.4139 - top_k_categorical_accuracy: 0.9762 - val_loss: 0.8150 - val_top_k_categorical_accuracy: 0.9404 - 213s/epoch - 135ms/step\n",
      "Epoch 26/50\n",
      "1583/1583 - 211s - loss: 0.4112 - top_k_categorical_accuracy: 0.9769 - val_loss: 0.8275 - val_top_k_categorical_accuracy: 0.9391 - 211s/epoch - 133ms/step\n",
      "Epoch 27/50\n",
      "1583/1583 - 212s - loss: 0.4061 - top_k_categorical_accuracy: 0.9772 - val_loss: 0.8197 - val_top_k_categorical_accuracy: 0.9402 - 212s/epoch - 134ms/step\n",
      "Epoch 28/50\n",
      "1583/1583 - 212s - loss: 0.3986 - top_k_categorical_accuracy: 0.9780 - val_loss: 0.8240 - val_top_k_categorical_accuracy: 0.9403 - 212s/epoch - 134ms/step\n",
      "Epoch 29/50\n",
      "1583/1583 - 221s - loss: 0.3956 - top_k_categorical_accuracy: 0.9784 - val_loss: 0.8260 - val_top_k_categorical_accuracy: 0.9395 - 221s/epoch - 139ms/step\n",
      "Epoch 30/50\n",
      "1583/1583 - 215s - loss: 0.3897 - top_k_categorical_accuracy: 0.9791 - val_loss: 0.8499 - val_top_k_categorical_accuracy: 0.9381 - 215s/epoch - 136ms/step\n",
      "Epoch 31/50\n",
      "1583/1583 - 218s - loss: 0.3887 - top_k_categorical_accuracy: 0.9791 - val_loss: 0.8776 - val_top_k_categorical_accuracy: 0.9361 - 218s/epoch - 138ms/step\n",
      "Epoch 32/50\n",
      "1583/1583 - 215s - loss: 0.3822 - top_k_categorical_accuracy: 0.9797 - val_loss: 0.8497 - val_top_k_categorical_accuracy: 0.9390 - 215s/epoch - 136ms/step\n",
      "Epoch 33/50\n",
      "1583/1583 - 216s - loss: 0.3792 - top_k_categorical_accuracy: 0.9801 - val_loss: 0.8481 - val_top_k_categorical_accuracy: 0.9389 - 216s/epoch - 136ms/step\n",
      "Epoch 34/50\n",
      "1583/1583 - 216s - loss: 0.3734 - top_k_categorical_accuracy: 0.9807 - val_loss: 0.8669 - val_top_k_categorical_accuracy: 0.9379 - 216s/epoch - 137ms/step\n",
      "Epoch 35/50\n",
      "1583/1583 - 217s - loss: 0.3735 - top_k_categorical_accuracy: 0.9808 - val_loss: 0.8647 - val_top_k_categorical_accuracy: 0.9365 - 217s/epoch - 137ms/step\n",
      "Epoch 36/50\n",
      "1583/1583 - 218s - loss: 0.3673 - top_k_categorical_accuracy: 0.9812 - val_loss: 0.8788 - val_top_k_categorical_accuracy: 0.9369 - 218s/epoch - 138ms/step\n",
      "Epoch 37/50\n",
      "1583/1583 - 217s - loss: 0.3646 - top_k_categorical_accuracy: 0.9818 - val_loss: 0.8731 - val_top_k_categorical_accuracy: 0.9391 - 217s/epoch - 137ms/step\n",
      "Epoch 38/50\n",
      "1583/1583 - 218s - loss: 0.3601 - top_k_categorical_accuracy: 0.9824 - val_loss: 0.8718 - val_top_k_categorical_accuracy: 0.9377 - 218s/epoch - 137ms/step\n",
      "Epoch 39/50\n",
      "1583/1583 - 222s - loss: 0.3575 - top_k_categorical_accuracy: 0.9824 - val_loss: 0.8885 - val_top_k_categorical_accuracy: 0.9359 - 222s/epoch - 140ms/step\n",
      "Epoch 40/50\n",
      "1583/1583 - 221s - loss: 0.3547 - top_k_categorical_accuracy: 0.9828 - val_loss: 0.8916 - val_top_k_categorical_accuracy: 0.9371 - 221s/epoch - 140ms/step\n",
      "Epoch 41/50\n",
      "1583/1583 - 215s - loss: 0.3548 - top_k_categorical_accuracy: 0.9828 - val_loss: 0.8933 - val_top_k_categorical_accuracy: 0.9361 - 215s/epoch - 136ms/step\n",
      "Epoch 42/50\n",
      "1583/1583 - 214s - loss: 0.3521 - top_k_categorical_accuracy: 0.9830 - val_loss: 0.9086 - val_top_k_categorical_accuracy: 0.9363 - 214s/epoch - 135ms/step\n",
      "Epoch 43/50\n",
      "1583/1583 - 217s - loss: 0.3483 - top_k_categorical_accuracy: 0.9835 - val_loss: 0.8982 - val_top_k_categorical_accuracy: 0.9367 - 217s/epoch - 137ms/step\n",
      "Epoch 44/50\n",
      "1583/1583 - 215s - loss: 0.3434 - top_k_categorical_accuracy: 0.9838 - val_loss: 0.9241 - val_top_k_categorical_accuracy: 0.9352 - 215s/epoch - 136ms/step\n",
      "Epoch 45/50\n",
      "1583/1583 - 211s - loss: 0.3426 - top_k_categorical_accuracy: 0.9840 - val_loss: 0.9031 - val_top_k_categorical_accuracy: 0.9370 - 211s/epoch - 133ms/step\n",
      "Epoch 46/50\n",
      "1583/1583 - 214s - loss: 0.3385 - top_k_categorical_accuracy: 0.9842 - val_loss: 0.9125 - val_top_k_categorical_accuracy: 0.9376 - 214s/epoch - 135ms/step\n",
      "Epoch 47/50\n",
      "1583/1583 - 213s - loss: 0.3363 - top_k_categorical_accuracy: 0.9848 - val_loss: 0.9196 - val_top_k_categorical_accuracy: 0.9361 - 213s/epoch - 134ms/step\n",
      "Epoch 48/50\n",
      "1583/1583 - 218s - loss: 0.3350 - top_k_categorical_accuracy: 0.9849 - val_loss: 0.9262 - val_top_k_categorical_accuracy: 0.9355 - 218s/epoch - 137ms/step\n",
      "Epoch 49/50\n",
      "1583/1583 - 219s - loss: 0.3314 - top_k_categorical_accuracy: 0.9851 - val_loss: 0.9299 - val_top_k_categorical_accuracy: 0.9356 - 219s/epoch - 139ms/step\n",
      "Epoch 50/50\n",
      "1583/1583 - 220s - loss: 0.3310 - top_k_categorical_accuracy: 0.9851 - val_loss: 0.9307 - val_top_k_categorical_accuracy: 0.9359 - 220s/epoch - 139ms/step\n"
     ]
    },
    {
     "data": {
      "text/plain": [
       "<keras.callbacks.History at 0x1ded5323700>"
      ]
     },
     "execution_count": 12,
     "metadata": {},
     "output_type": "execute_result"
    }
   ],
   "source": [
    "model.fit(x = x_train, y = y_train, validation_split = 0.1, batch_size = 256, verbose = 2, epochs = 50)"
   ]
  },
  {
   "cell_type": "markdown",
   "metadata": {},
   "source": [
    "**Simple Evaluation for Model Accuracy**\n",
    "___"
   ]
  },
  {
   "cell_type": "code",
   "execution_count": 13,
   "metadata": {},
   "outputs": [
    {
     "name": "stdout",
     "output_type": "stream",
     "text": [
      "1563/1563 [==============================] - 22s 14ms/step - loss: 0.9153 - top_k_categorical_accuracy: 0.9379\n",
      "Test accuarcy: 93.79%\n"
     ]
    }
   ],
   "source": [
    "percentage = model.evaluate(x_test, y_test, verbose = 1)\n",
    "print('Test accuracy: {:0.2f}%'.format(percentage[1] * 100))"
   ]
  },
  {
   "cell_type": "markdown",
   "metadata": {},
   "source": [
    "**Plotting the Inference**\n",
    "___"
   ]
  },
  {
   "cell_type": "code",
   "execution_count": 14,
   "metadata": {},
   "outputs": [
    {
     "name": "stdout",
     "output_type": "stream",
     "text": [
      "1/1 [==============================] - 0s 183ms/step\n",
      "['backpack', 'butterfly', 'elephant', 'basketball', 'mug']\n"
     ]
    },
    {
     "data": {
      "image/png": "[encoded data removed]",
      "text/plain": [
       "<Figure size 432x288 with 1 Axes>"
      ]
     },
     "metadata": {
      "needs_background": "light"
     },
     "output_type": "display_data"
    }
   ],
   "source": [
    "idx = randint(0, len(x_test))\n",
    "img = x_test[idx]\n",
    "plt.imshow(img.squeeze()) \n",
    "pred = model.predict(np.expand_dims(img, axis=0))[0]\n",
    "ind = (-pred).argsort()[:5]\n",
    "latex = [categories_list[x] for x in ind]\n",
    "print(latex)"
   ]
  },
  {
   "cell_type": "markdown",
   "metadata": {},
   "source": [
    "**Saving The Model**\n",
    "___"
   ]
  },
  {
   "cell_type": "code",
   "execution_count": 15,
   "metadata": {},
   "outputs": [],
   "source": [
    "model.save('finalmodel100.h5')"
   ]
  },
  {
   "cell_type": "markdown",
   "metadata": {},
   "source": [
    "**Converting the Model**\n",
    "___"
   ]
  },
  {
   "cell_type": "code",
   "execution_count": 25,
   "metadata": {},
   "outputs": [],
   "source": [
    "import tensorflowjs as tfjs\n",
    "from os import path\n",
    "path = r\"D:\\Documents\\National Chiao Tung University\\Intro to Artificial Intelligence\\Github Submit\"\n",
    "newFolderName=\"finalsubmission\"\n",
    "try:\n",
    "    os.mkdir(os.path.join(path, newFolderName))\n",
    "except FileExistsError:\n",
    "    pass\n",
    "# myjsonmodel = model.to_json()\n",
    "# with open(\"testjsonbaru.json\", \"w\") as json_file:\n",
    "#     json_file.write(myjsonmodel)\n",
    "tfjs.converters.save_keras_model(model,os.path.join(path, newFolderName))\n"
   ]
  },
  {
   "cell_type": "code",
   "execution_count": null,
   "metadata": {},
   "outputs": [
    {
     "name": "stderr",
     "output_type": "stream",
     "text": [
      "A subdirectory or file model already exists.\n",
      "2022-06-14 16:27:43.620281: W tensorflow/stream_executor/platform/default/dso_loader.cc:64] Could not load dynamic library 'cudart64_110.dll'; dlerror: cudart64_110.dll not found\n",
      "2022-06-14 16:27:43.620505: I tensorflow/stream_executor/cuda/cudart_stub.cc:29] Ignore above cudart dlerror if you do not have a GPU set up on your machine.\n"
     ]
    }
   ],
   "source": [
    "# !mkdir model\n",
    "# !tensorflowjs_converter --input_format keras modeledited40.h5 model/"
   ]
  },
  {
   "cell_type": "code",
   "execution_count": null,
   "metadata": {},
   "outputs": [],
   "source": [
    "# copy class_names.txt model/class_names.txt\n",
    "# import shutil\n",
    "\n",
    "# source = r\"D:\\Documents\\National Chiao Tung University\\Intro to Artificial Intelligence\\Github Submit\\categories_list.txt\"\n",
    "# destination = r\"D:\\Documents\\National Chiao Tung University\\Intro to Artificial Intelligence\\Github Submit\\model\\categories_list.txt\"\n",
    "# shutil.copyfile(source, destination)"
   ]
  },
  {
   "cell_type": "code",
   "execution_count": null,
   "metadata": {},
   "outputs": [],
   "source": [
    "# # copy class_names.txt model/class_names.txt\n",
    "# import shutil\n",
    "# source = r\"D:\\Documents\\National Chiao Tung University\\Intro to Artificial Intelligence\\Final Project\\class_names.txt\"\n",
    "# destination = r\"D:\\Documents\\National Chiao Tung University\\Intro to Artificial Intelligence\\Final Project\\model\\class_names.txt\"\n",
    "# shutil.copyfile(source, destination)"
   ]
  },
  {
   "cell_type": "code",
   "execution_count": null,
   "metadata": {},
   "outputs": [],
   "source": [
    "# from http.server import BaseHTTPServer, BaseHTTPRequestHandlerimport\n",
    "# import ssl\n",
    "\n",
    "# httpd = BaseHTTPServer.HTTPServer(('localhost', 4443), SimpleHTTPServer.SimpleHTTPRequestHandler)\n",
    "# httpd.socket = ssl.wrap_socket (httpd.socket, certfile='./server.pem', server_side=True)\n",
    "# httpd.serve_forever()"
   ]
  }
 ],
 "metadata": {
  "kernelspec": {
   "display_name": "Python 3.9.0 64-bit",
   "language": "python",
   "name": "python3"
  },
  "language_info": {
   "codemirror_mode": {
    "name": "ipython",
    "version": 3
   },
   "file_extension": ".py",
   "mimetype": "text/x-python",
   "name": "python",
   "nbconvert_exporter": "python",
   "pygments_lexer": "ipython3",
   "version": "3.9.0"
  },
  "orig_nbformat": 4,
  "vscode": {
   "interpreter": {
    "hash": "25034407fed5d681614dac11a1c0537e8cb49e3a8883c071303eea01322943d9"
   }
  }
 },
 "nbformat": 4,
 "nbformat_minor": 2
}
